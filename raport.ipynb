{
 "cells": [
  {
   "cell_type": "markdown",
   "metadata": {},
   "source": [
    "# Optymalizacja portfela papierów wartościowych"
   ]
  },
  {
   "cell_type": "markdown",
   "metadata": {},
   "source": [
    "Celem projektu jest zbadanie zastosowań algorytmów ewolucyjnych do optymalizacji portfela papierów wartościowych, jako problemu optymalizacji wielokryterialnej.\n",
    "\n",
    "Optymalizacja portfela polega na minimalizacji (lub maksymalizacji) różnych statystyk, obliczanych na podstawie historycznych zwrotów takich jak średnia, czy też wariancja.\n",
    "W praktyce równie istotne jest sprawdzenie, jak sprawdza portfel dobrany poprzez taką optymalizację, jednak nie będziemy się zajmować testowaniem działania otrzymanych portfeli w przyszłości.\n",
    "\n",
    "Optymalizacja portfela polega na znalezieniu wag portfela o najmniejszym ryzyku dla ustalonego wcześniej poziomu zwrotu, lub wag portfela o największym zwrocie dla ustalonego, maksymalnego poziomu ryzyka.\n",
    "Ze względu na to, że istnieją różne miary ryzyka, będziemy szukali odpowiedniego frontu Pareto, który dla określonego poziomu zwrotu będzie minimalizował wszystkie zaimplementowane przez nas miary ryzyka.\n",
    "\n",
    "Klasycznym podejściem do tego problemu jest teoria portfelowa Markowitza, która pozwala na znalezienie optymalnego portfela, jeśli za miarę ryzyka przyjmiemy wariancję zwrotów.\n",
    "Z różnych względów wykorzystywanie wariancji, jako miary ryzyka jest krytykowane przez praktyków zajmujących się finansami, natomiast dla innych miar ryzyka nie występują tak zwarte procedury, pozwalające na bezpośrednie obliczenie optymalnych wag, dlatego też próba optymalizacji z wykorzystaniem algorytmów ewolucyjnych jest uzasadniona.\n",
    "\n",
    "Będziemy rozpatrywali rynek, który składa się z $d$ instrumentów finansowych.\n",
    "Powiemy, że $R=(R_1, \\dots, R_d)^T$ jest wektorem losowym stóp zwrotu odpowiednich instrumentów, a $\\mu=\\mathbb{E}(R)$ jest jego wartością oczekiwaną.\n",
    "Interesuje nas znalezienie wektora wag $w=(w_1, \\dots, w_d)^T$ takiego, że $\\sum_{i=1}^d w_i = 1$, dla którego wartość oczekiwana $\\mathbb{E}(w^TR) = w^T \\mu$ jest jak największa.\n",
    "\n",
    "Na podstawie danych rynkowych estymujemy $\\hat{\\mu}_i = \\bar{r^{(i)}} = \\sum_{t=1}^T r^{(i)}_t$, jako średnią dzienną stopę zwrotu.\n",
    "\n",
    "Dlatego też w praktyce będziemy szukać takich wag, które maksymalizują $w^T\\hat{\\mu}$.\n",
    "\n",
    "Podstawową miarą ryzyka jest wariancja $\\text{Var}(w^TR) = w^T\\text{Cov}(R) w = w^T \\Sigma w$, gdzie $\\Sigma$ jest macierzą kowariancji wektora $R$.\n",
    "W naszym przypadku będziemy wykorzystywać estymator macierzy kowariancji $\\hat{\\Sigma} = \\frac{1}{T}\\sum_{t=1}^T (r_t - \\mu) (r_t - \\mu)^T.$\n",
    "Zależy nam zatem na minimalizacji wyrażenia $w^T \\hat{\\Sigma} w$.\n",
    "\n",
    "Kolejną miarą ryzyka, którą będziemy wykorzystywać jest semiwariancja.\n",
    "Dla portfela o wagach $w$ jest ona określona, jako $s=\\mathbb{E}\\left((w^TR - \\mathbb{E}(w^TR))^2 1_{\\{w^TR \\leq \\mathbb{E}[w^TR]\\}}\\right)$,\n",
    "Podobnie, jak w innych przypadkach, będziemy estymować tę wartość na podstawie historycznych zwrotów, jako $\\hat{s}=\\frac{1}{|\\{t: w^Tr_t < w^T\\mu\\}|} \\sum_{t: w^Tr_t < w^T\\mu} (w^T\\mu - w^Tr_t)^2$.\n",
    "\n",
    "Ostatnią miarą ryzyka, którą wykorzystamy jest VaR (Value at Risk) zdefiniowana, jako $\\text{VaR}_\\alpha(w^TR) = \\inf\\{ x:P(w^TR + x < 0) \\leq \\alpha \\}.$\n",
    "Tutaj również będziemy korzystać z estymatora tego parametru, uzyskanego na podstawie danych historycznych,\n",
    "danego wzorem $\\hat{\\text{VaR}_\\alpha} = \\text{kwantyl rzędu }(1 - \\alpha) \\text{ ze zbioru wartości } \\{ w^Tr_t: t=1,\\dots,T\\}.$"
   ]
  },
  {
   "cell_type": "markdown",
   "metadata": {},
   "source": []
  },
  {
   "cell_type": "markdown",
   "metadata": {},
   "source": []
  },
  {
   "cell_type": "markdown",
   "metadata": {},
   "source": []
  }
 ],
 "metadata": {
  "language_info": {
   "name": "python"
  },
  "orig_nbformat": 4
 },
 "nbformat": 4,
 "nbformat_minor": 2
}
